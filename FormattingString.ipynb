def print_formatted(n):
    w=len("{:b}".format(n))
    for i in range(n+1):
        print("{0:{w}d} {0:{w}o} {0:{w}X} {0:{w}b}".format(i,w=w))
n = int(input())
print_formatted(n)
