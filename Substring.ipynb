s=input()      #Examples :"ABCDCDCDC"
su=input()     #Examples: "CDC"
i=0
a=0
while(True):
    if (su in s[i:]):
        i=len(s[:i])+s[i:].find(su)+1
        a=a+1
    else:
        break
if(a==0):
    print("Substring not found")
else:
    print("Number of substrings:",a)
